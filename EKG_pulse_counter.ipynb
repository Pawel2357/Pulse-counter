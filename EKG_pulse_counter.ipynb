{
 "cells": [
  {
   "cell_type": "code",
   "execution_count": 19,
   "metadata": {
    "collapsed": true
   },
   "outputs": [],
   "source": [
    "# -*- coding: utf-8 -*-\n",
    "import pylab as p\n",
    "import numpy as np\n",
    "import scipy.signal as ss"
   ]
  },
  {
   "cell_type": "markdown",
   "metadata": {},
   "source": [
    "Load file with EKG data"
   ]
  },
  {
   "cell_type": "code",
   "execution_count": 20,
   "metadata": {
    "collapsed": false
   },
   "outputs": [
    {
     "name": "stdout",
     "output_type": "stream",
     "text": [
      "797360\n",
      "[[-25796. -57990.  40770.  36230.]\n",
      " [-21441. -53492.  45314.  36015.]\n",
      " [-17396. -49240.  49533.  35783.]\n",
      " ..., \n",
      " [-38031. -45647.  39877.  10137.]\n",
      " [-41412. -49535.  36212.  10590.]\n",
      " [-42593. -50947.  35014.  10722.]]\n"
     ]
    }
   ],
   "source": [
    "surowy=np.fromfile('./ekg_hr2.raw','float32')\n",
    "lprob=len(surowy)\n",
    "print( lprob )\n",
    "surowy=np.reshape(surowy,(lprob/4,4))\n",
    "print( surowy )\n",
    "surowy=surowy.transpose()"
   ]
  },
  {
   "cell_type": "markdown",
   "metadata": {},
   "source": [
    "Filters definitions"
   ]
  },
  {
   "cell_type": "code",
   "execution_count": 21,
   "metadata": {
    "collapsed": true
   },
   "outputs": [],
   "source": [
    "F=512.\n",
    "\n",
    "def filtr_highpass(syg,Fs):\n",
    "    [b,a]=ss.butter(5,10./(Fs/2.0),'highpass')\n",
    "    return ss.filtfilt(b,a,syg)\n",
    "    \n",
    "def filtr_bandstop(syg,Fs):\n",
    "    [b,a]=ss.butter(5,[48./(Fs/2.0),52./(Fs/2.0)],'bandstop')\n",
    "    return ss.filtfilt(b,a,syg)\n",
    "\n",
    "def filtr(syg,Fs):\n",
    "    return filtr_bandstop(filtr_highpass(syg,Fs),Fs)"
   ]
  },
  {
   "cell_type": "code",
   "execution_count": 22,
   "metadata": {
    "collapsed": true
   },
   "outputs": [],
   "source": [
    "#Signal from 4 electrodes\n",
    "left_hand = surowy[:][0]\n",
    "\n",
    "right_hand = surowy[:][1]\n",
    "foot = surowy[:][2]\n",
    "gnd = surowy[:][3]"
   ]
  },
  {
   "cell_type": "code",
   "execution_count": 23,
   "metadata": {
    "collapsed": false
   },
   "outputs": [],
   "source": [
    "#Einthoven setup\n",
    "#I\n",
    "sygI=right_hand-left_hand\n",
    "\n",
    "#II\n",
    "sygII=foot-right_hand\n",
    "#III\n",
    "sygIII=foot-left_hand"
   ]
  },
  {
   "cell_type": "code",
   "execution_count": 24,
   "metadata": {
    "collapsed": true
   },
   "outputs": [],
   "source": [
    "#Filtering signals\n",
    "einI=filtr(sygI,F)\n",
    "einII=filtr(sygII,F)\n",
    "einIII=filtr(sygIII,F)[0:18000]"
   ]
  },
  {
   "cell_type": "code",
   "execution_count": 25,
   "metadata": {
    "collapsed": false
   },
   "outputs": [
    {
     "data": {
      "image/png": "[encoded data removed]",
      "text/plain": [
       "<matplotlib.figure.Figure at 0x7f7a369f76a0>"
      ]
     },
     "metadata": {},
     "output_type": "display_data"
    }
   ],
   "source": [
    "#Calculation of scalar product\n",
    "iloczyn_skalarny=np.zeros(len(einIII)-200)\n",
    "for i in range(len(einIII)-200):\n",
    "    iloczyn_skalarny[i]=np.inner(einIII[150:350],einIII[i:i+200])\n",
    "\n",
    "#Plot of the scalar product\n",
    "%matplotlib inline\n",
    "\n",
    "p.clf()\n",
    "x=[]\n",
    "y=[]\n",
    "for i in range(2000):\n",
    "    x.append(i/F)\n",
    "    y.append(iloczyn_skalarny[i])\n",
    "p.plot(x,y)\n",
    "\n",
    "p.ylabel('Scalar product')\n",
    "p.xlabel('Time[s]')\n",
    "#p.ylabel('I')\n",
    "#p.savefig('C:/Users/Pawel/Desktop/EKG/iloczyn_skalarny_hr2.png')\n",
    "p.show()"
   ]
  },
  {
   "cell_type": "code",
   "execution_count": 26,
   "metadata": {
    "collapsed": false
   },
   "outputs": [],
   "source": [
    "#Function that change signal to binary signal [0,1].\n",
    "def binarny(syg):\n",
    "    \t\n",
    "    y=syg\n",
    "\n",
    "    binar=np.zeros(len(y))\n",
    "    \n",
    "    #Search for peaks\n",
    "    zakres=1000\n",
    "    for i in range(1,int(len(y)/zakres)):\n",
    "        przedzial=y[(i-1)*zakres:i*zakres]\n",
    "        prog=0.6*przedzial[np.argmax(przedzial)]\n",
    "        #print( prog )\n",
    "        for j in range((i-1)*zakres,i*zakres):\n",
    "            if y[j]>=prog:\n",
    "                binar[j]=1\n",
    "    #Change peaks to points\n",
    "    binarny_dobry=np.zeros(len(binar)-1)\n",
    "    l=-30\n",
    "    for i in range(len(binar)-1):\n",
    "        if binar[i+1]==1:\n",
    "            if binar[i]==0:\n",
    "               # print i\n",
    "                if i-l>20:\n",
    "                    binarny_dobry[i+1]=1\n",
    "                    l=i\n",
    "    return binarny_dobry "
   ]
  },
  {
   "cell_type": "code",
   "execution_count": 27,
   "metadata": {
    "collapsed": true
   },
   "outputs": [],
   "source": [
    "#Function that calculates pulse\n",
    "def calculate_pulse( poprzedni, nastepny ):\n",
    "    return 60*512./( float(nastepny-poprzedni) )\n",
    "\n",
    "def pulse(syg):\n",
    "    syg_tetno=np.zeros( len(syg) )\n",
    "    poprzedni=0\n",
    "    nastepny=0\n",
    "    for i in range( len(syg) ):\n",
    "        if syg[i]==1:\n",
    "            poprzedni=nastepny\n",
    "            nastepny = i\n",
    "            if poprzedni!=0:\n",
    "                syg_tetno[i] = calculate_pulse( poprzedni, nastepny )\n",
    "    return syg_tetno"
   ]
  },
  {
   "cell_type": "code",
   "execution_count": 28,
   "metadata": {
    "collapsed": false
   },
   "outputs": [
    {
     "data": {
      "image/png": "[encoded data removed]",
      "text/plain": [
       "<matplotlib.figure.Figure at 0x7f7a5cd19358>"
      ]
     },
     "metadata": {},
     "output_type": "display_data"
    },
    {
     "name": "stdout",
     "output_type": "stream",
     "text": [
      "average pulse: 59.5990995542\n"
     ]
    }
   ],
   "source": [
    "#Plot pulse( time )\n",
    "\n",
    "einIII_t = pulse( binarny( iloczyn_skalarny ) )\n",
    "\n",
    "p.clf()\n",
    "\n",
    "x=[]\n",
    "y=[]\n",
    "suma=0\n",
    "ilosc=0\n",
    "for i in range( len( einIII_t ) ):\n",
    "    if einIII_t[i]!=0:\n",
    "        #print i\n",
    "        x.append(i/F)\n",
    "        y.append(einIII_t[i])\n",
    "        suma+=einIII_t[i]\n",
    "        ilosc+=1\n",
    "        \n",
    "        \n",
    "pole=0\n",
    "for i in range(len(x)-1):\n",
    "    pole+=((y[i]+y[i+1])/2)*(x[i+1]-x[i])\n",
    "    \n",
    "\n",
    "#p.plot(binarny(einI))\n",
    "p.plot(x,y)\n",
    "p.xlabel('Time [s]')\n",
    "p.ylabel('Pulse')\n",
    "p.title('Pulse( time )')\n",
    "#p.savefig('C:/Users/Pawel/Desktop/EKG/tetno_EinIII_hr2.png')\n",
    "p.show()\n",
    "\n",
    "print( \"average pulse: \" + str( pole / ( x[len(x)-1]-x[0] ) ) )"
   ]
  },
  {
   "cell_type": "code",
   "execution_count": null,
   "metadata": {
    "collapsed": true
   },
   "outputs": [],
   "source": []
  }
 ],
 "metadata": {
  "kernelspec": {
   "display_name": "Python 3",
   "language": "python",
   "name": "python3"
  },
  "language_info": {
   "codemirror_mode": {
    "name": "ipython",
    "version": 3
   },
   "file_extension": ".py",
   "mimetype": "text/x-python",
   "name": "python",
   "nbconvert_exporter": "python",
   "pygments_lexer": "ipython3",
   "version": "3.5.1"
  }
 },
 "nbformat": 4,
 "nbformat_minor": 0
}
